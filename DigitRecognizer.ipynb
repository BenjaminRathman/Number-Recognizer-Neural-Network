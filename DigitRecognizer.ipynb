{
  "nbformat": 4,
  "nbformat_minor": 0,
  "metadata": {
    "colab": {
      "provenance": [],
      "authorship_tag": "ABX9TyOFHhKfMbicXd6J1zmF7CNK",
      "include_colab_link": true
    },
    "kernelspec": {
      "name": "python3",
      "display_name": "Python 3"
    },
    "language_info": {
      "name": "python"
    }
  },
  "cells": [
    {
      "cell_type": "markdown",
      "metadata": {
        "id": "view-in-github",
        "colab_type": "text"
      },
      "source": [
        "<a href=\"https://colab.research.google.com/github/BenjaminRathman/Number-Recognizer-Neural-Network/blob/main/DigitRecognizer.ipynb\" target=\"_parent\"><img src=\"https://colab.research.google.com/assets/colab-badge.svg\" alt=\"Open In Colab\"/></a>"
      ]
    },
    {
      "cell_type": "code",
      "execution_count": null,
      "metadata": {
        "id": "ish848oHyvlP"
      },
      "outputs": [],
      "source": [
        "from torchvision import datasets\n",
        "from torchvision.transforms import ToTensor\n"
      ]
    },
    {
      "cell_type": "code",
      "source": [
        "train_data = datasets.MNIST(\n",
        "    root = 'data',\n",
        "    train = True,\n",
        "    transform = ToTensor(),\n",
        "    download = True,\n",
        ")\n",
        "\n",
        "test_data = datasets.MNIST(\n",
        "    root = 'data',\n",
        "    train = False,\n",
        "    transform = ToTensor(),\n",
        "    download = True,\n",
        ")"
      ],
      "metadata": {
        "colab": {
          "base_uri": "https://localhost:8080/"
        },
        "collapsed": true,
        "id": "8FCPo5MCLEzP",
        "outputId": "4fd8b862-7d92-452a-cc3a-85ed84c0f6ec"
      },
      "execution_count": null,
      "outputs": [
        {
          "output_type": "stream",
          "name": "stdout",
          "text": [
            "Downloading http://yann.lecun.com/exdb/mnist/train-images-idx3-ubyte.gz\n",
            "Failed to download (trying next):\n",
            "<urlopen error [SSL: CERTIFICATE_VERIFY_FAILED] certificate verify failed: certificate has expired (_ssl.c:1007)>\n",
            "\n",
            "Downloading https://ossci-datasets.s3.amazonaws.com/mnist/train-images-idx3-ubyte.gz\n",
            "Downloading https://ossci-datasets.s3.amazonaws.com/mnist/train-images-idx3-ubyte.gz to data/MNIST/raw/train-images-idx3-ubyte.gz\n"
          ]
        },
        {
          "output_type": "stream",
          "name": "stderr",
          "text": [
            "100%|██████████| 9912422/9912422 [00:00<00:00, 15958850.95it/s]\n"
          ]
        },
        {
          "output_type": "stream",
          "name": "stdout",
          "text": [
            "Extracting data/MNIST/raw/train-images-idx3-ubyte.gz to data/MNIST/raw\n",
            "\n",
            "Downloading http://yann.lecun.com/exdb/mnist/train-labels-idx1-ubyte.gz\n",
            "Failed to download (trying next):\n",
            "<urlopen error [SSL: CERTIFICATE_VERIFY_FAILED] certificate verify failed: certificate has expired (_ssl.c:1007)>\n",
            "\n",
            "Downloading https://ossci-datasets.s3.amazonaws.com/mnist/train-labels-idx1-ubyte.gz\n",
            "Downloading https://ossci-datasets.s3.amazonaws.com/mnist/train-labels-idx1-ubyte.gz to data/MNIST/raw/train-labels-idx1-ubyte.gz\n"
          ]
        },
        {
          "output_type": "stream",
          "name": "stderr",
          "text": [
            "100%|██████████| 28881/28881 [00:00<00:00, 499963.65it/s]\n"
          ]
        },
        {
          "output_type": "stream",
          "name": "stdout",
          "text": [
            "Extracting data/MNIST/raw/train-labels-idx1-ubyte.gz to data/MNIST/raw\n",
            "\n",
            "Downloading http://yann.lecun.com/exdb/mnist/t10k-images-idx3-ubyte.gz\n",
            "Failed to download (trying next):\n",
            "<urlopen error [SSL: CERTIFICATE_VERIFY_FAILED] certificate verify failed: certificate has expired (_ssl.c:1007)>\n",
            "\n",
            "Downloading https://ossci-datasets.s3.amazonaws.com/mnist/t10k-images-idx3-ubyte.gz\n",
            "Downloading https://ossci-datasets.s3.amazonaws.com/mnist/t10k-images-idx3-ubyte.gz to data/MNIST/raw/t10k-images-idx3-ubyte.gz\n"
          ]
        },
        {
          "output_type": "stream",
          "name": "stderr",
          "text": [
            "100%|██████████| 1648877/1648877 [00:00<00:00, 4450815.91it/s]\n"
          ]
        },
        {
          "output_type": "stream",
          "name": "stdout",
          "text": [
            "Extracting data/MNIST/raw/t10k-images-idx3-ubyte.gz to data/MNIST/raw\n",
            "\n",
            "Downloading http://yann.lecun.com/exdb/mnist/t10k-labels-idx1-ubyte.gz\n",
            "Failed to download (trying next):\n",
            "<urlopen error [SSL: CERTIFICATE_VERIFY_FAILED] certificate verify failed: certificate has expired (_ssl.c:1007)>\n",
            "\n",
            "Downloading https://ossci-datasets.s3.amazonaws.com/mnist/t10k-labels-idx1-ubyte.gz\n",
            "Downloading https://ossci-datasets.s3.amazonaws.com/mnist/t10k-labels-idx1-ubyte.gz to data/MNIST/raw/t10k-labels-idx1-ubyte.gz\n"
          ]
        },
        {
          "output_type": "stream",
          "name": "stderr",
          "text": [
            "100%|██████████| 4542/4542 [00:00<00:00, 4303259.27it/s]"
          ]
        },
        {
          "output_type": "stream",
          "name": "stdout",
          "text": [
            "Extracting data/MNIST/raw/t10k-labels-idx1-ubyte.gz to data/MNIST/raw\n",
            "\n"
          ]
        },
        {
          "output_type": "stream",
          "name": "stderr",
          "text": [
            "\n"
          ]
        }
      ]
    },
    {
      "cell_type": "code",
      "source": [
        "train_data.data"
      ],
      "metadata": {
        "colab": {
          "base_uri": "https://localhost:8080/"
        },
        "collapsed": true,
        "id": "WP8pf0fWL-zd",
        "outputId": "669a9995-5099-4936-ed89-66c1d0c095b4"
      },
      "execution_count": null,
      "outputs": [
        {
          "output_type": "execute_result",
          "data": {
            "text/plain": [
              "tensor([[[0, 0, 0,  ..., 0, 0, 0],\n",
              "         [0, 0, 0,  ..., 0, 0, 0],\n",
              "         [0, 0, 0,  ..., 0, 0, 0],\n",
              "         ...,\n",
              "         [0, 0, 0,  ..., 0, 0, 0],\n",
              "         [0, 0, 0,  ..., 0, 0, 0],\n",
              "         [0, 0, 0,  ..., 0, 0, 0]],\n",
              "\n",
              "        [[0, 0, 0,  ..., 0, 0, 0],\n",
              "         [0, 0, 0,  ..., 0, 0, 0],\n",
              "         [0, 0, 0,  ..., 0, 0, 0],\n",
              "         ...,\n",
              "         [0, 0, 0,  ..., 0, 0, 0],\n",
              "         [0, 0, 0,  ..., 0, 0, 0],\n",
              "         [0, 0, 0,  ..., 0, 0, 0]],\n",
              "\n",
              "        [[0, 0, 0,  ..., 0, 0, 0],\n",
              "         [0, 0, 0,  ..., 0, 0, 0],\n",
              "         [0, 0, 0,  ..., 0, 0, 0],\n",
              "         ...,\n",
              "         [0, 0, 0,  ..., 0, 0, 0],\n",
              "         [0, 0, 0,  ..., 0, 0, 0],\n",
              "         [0, 0, 0,  ..., 0, 0, 0]],\n",
              "\n",
              "        ...,\n",
              "\n",
              "        [[0, 0, 0,  ..., 0, 0, 0],\n",
              "         [0, 0, 0,  ..., 0, 0, 0],\n",
              "         [0, 0, 0,  ..., 0, 0, 0],\n",
              "         ...,\n",
              "         [0, 0, 0,  ..., 0, 0, 0],\n",
              "         [0, 0, 0,  ..., 0, 0, 0],\n",
              "         [0, 0, 0,  ..., 0, 0, 0]],\n",
              "\n",
              "        [[0, 0, 0,  ..., 0, 0, 0],\n",
              "         [0, 0, 0,  ..., 0, 0, 0],\n",
              "         [0, 0, 0,  ..., 0, 0, 0],\n",
              "         ...,\n",
              "         [0, 0, 0,  ..., 0, 0, 0],\n",
              "         [0, 0, 0,  ..., 0, 0, 0],\n",
              "         [0, 0, 0,  ..., 0, 0, 0]],\n",
              "\n",
              "        [[0, 0, 0,  ..., 0, 0, 0],\n",
              "         [0, 0, 0,  ..., 0, 0, 0],\n",
              "         [0, 0, 0,  ..., 0, 0, 0],\n",
              "         ...,\n",
              "         [0, 0, 0,  ..., 0, 0, 0],\n",
              "         [0, 0, 0,  ..., 0, 0, 0],\n",
              "         [0, 0, 0,  ..., 0, 0, 0]]], dtype=torch.uint8)"
            ]
          },
          "metadata": {},
          "execution_count": 3
        }
      ]
    },
    {
      "cell_type": "code",
      "source": [
        "test_data.data"
      ],
      "metadata": {
        "colab": {
          "base_uri": "https://localhost:8080/"
        },
        "collapsed": true,
        "id": "rUvwuoRKNcBF",
        "outputId": "63f790d1-ff61-4a06-99c3-37288f5c4490"
      },
      "execution_count": null,
      "outputs": [
        {
          "output_type": "execute_result",
          "data": {
            "text/plain": [
              "tensor([[[0, 0, 0,  ..., 0, 0, 0],\n",
              "         [0, 0, 0,  ..., 0, 0, 0],\n",
              "         [0, 0, 0,  ..., 0, 0, 0],\n",
              "         ...,\n",
              "         [0, 0, 0,  ..., 0, 0, 0],\n",
              "         [0, 0, 0,  ..., 0, 0, 0],\n",
              "         [0, 0, 0,  ..., 0, 0, 0]],\n",
              "\n",
              "        [[0, 0, 0,  ..., 0, 0, 0],\n",
              "         [0, 0, 0,  ..., 0, 0, 0],\n",
              "         [0, 0, 0,  ..., 0, 0, 0],\n",
              "         ...,\n",
              "         [0, 0, 0,  ..., 0, 0, 0],\n",
              "         [0, 0, 0,  ..., 0, 0, 0],\n",
              "         [0, 0, 0,  ..., 0, 0, 0]],\n",
              "\n",
              "        [[0, 0, 0,  ..., 0, 0, 0],\n",
              "         [0, 0, 0,  ..., 0, 0, 0],\n",
              "         [0, 0, 0,  ..., 0, 0, 0],\n",
              "         ...,\n",
              "         [0, 0, 0,  ..., 0, 0, 0],\n",
              "         [0, 0, 0,  ..., 0, 0, 0],\n",
              "         [0, 0, 0,  ..., 0, 0, 0]],\n",
              "\n",
              "        ...,\n",
              "\n",
              "        [[0, 0, 0,  ..., 0, 0, 0],\n",
              "         [0, 0, 0,  ..., 0, 0, 0],\n",
              "         [0, 0, 0,  ..., 0, 0, 0],\n",
              "         ...,\n",
              "         [0, 0, 0,  ..., 0, 0, 0],\n",
              "         [0, 0, 0,  ..., 0, 0, 0],\n",
              "         [0, 0, 0,  ..., 0, 0, 0]],\n",
              "\n",
              "        [[0, 0, 0,  ..., 0, 0, 0],\n",
              "         [0, 0, 0,  ..., 0, 0, 0],\n",
              "         [0, 0, 0,  ..., 0, 0, 0],\n",
              "         ...,\n",
              "         [0, 0, 0,  ..., 0, 0, 0],\n",
              "         [0, 0, 0,  ..., 0, 0, 0],\n",
              "         [0, 0, 0,  ..., 0, 0, 0]],\n",
              "\n",
              "        [[0, 0, 0,  ..., 0, 0, 0],\n",
              "         [0, 0, 0,  ..., 0, 0, 0],\n",
              "         [0, 0, 0,  ..., 0, 0, 0],\n",
              "         ...,\n",
              "         [0, 0, 0,  ..., 0, 0, 0],\n",
              "         [0, 0, 0,  ..., 0, 0, 0],\n",
              "         [0, 0, 0,  ..., 0, 0, 0]]], dtype=torch.uint8)"
            ]
          },
          "metadata": {},
          "execution_count": 4
        }
      ]
    },
    {
      "cell_type": "code",
      "source": [
        "#we want to load this is set\n",
        "from torch.utils.data import DataLoader\n",
        "\n",
        "loaders = {\n",
        "\n",
        "           \"train\" : DataLoader(train_data, batch_size=100, shuffle=True, num_workers=1),\n",
        "           \"test\"  : DataLoader(test_data, batch_size=100, shuffle=True, num_workers=1),\n",
        "}"
      ],
      "metadata": {
        "id": "ULPa-6SMNYKg"
      },
      "execution_count": null,
      "outputs": []
    },
    {
      "cell_type": "code",
      "source": [
        "loaders"
      ],
      "metadata": {
        "colab": {
          "base_uri": "https://localhost:8080/"
        },
        "id": "HxZw9ez1OB34",
        "outputId": "e7dc9476-856f-45b4-990c-253e09767fcf"
      },
      "execution_count": null,
      "outputs": [
        {
          "output_type": "execute_result",
          "data": {
            "text/plain": [
              "{'train': <torch.utils.data.dataloader.DataLoader at 0x79d2b0837a30>,\n",
              " 'test': <torch.utils.data.dataloader.DataLoader at 0x79d2b0835060>}"
            ]
          },
          "metadata": {},
          "execution_count": 6
        }
      ]
    },
    {
      "cell_type": "code",
      "source": [
        "import torch.nn as nn\n",
        "import torch.nn.functional as F\n",
        "import torch.optim as optim\n",
        "\n",
        "class CNN(nn.Module):\n",
        "\n",
        "  def __init__(self):\n",
        "    super(CNN, self).__init__()\n",
        "\n",
        "    self.conv1 = nn.Conv2d(1, 10, kernel_size=5)\n",
        "    self.conv2 = nn.Conv2d(10, 20, kernel_size=5)\n",
        "    self.conv2_drop = nn.Dropout2d()\n",
        "    self.fc1 = nn.Linear(320, 50)\n",
        "    self.fc2 = nn.Linear(50, 10)\n",
        "\n",
        "  def forward(self, x):\n",
        "    x = F.relu(F.max_pool2d(self.conv1(x), 2))\n",
        "    x = F.relu(F.max_pool2d(self.conv2_drop(self.conv2(x)), 2))\n",
        "    x = x.view(-1, 320)\n",
        "    x = F.relu(self.fc1(x))\n",
        "    x = F.dropout(x, training=self.training)\n",
        "    x = self.fc2(x)\n",
        "\n",
        "    return F.log_softmax(x)\n"
      ],
      "metadata": {
        "id": "bvJexKCJOGIp"
      },
      "execution_count": null,
      "outputs": []
    },
    {
      "cell_type": "code",
      "source": [
        "import torch\n",
        "\n",
        "device = torch.device(\"cuda\" if torch.cuda.is_available() else \"cpu\")\n",
        "model = CNN().to(device)\n",
        "optimizer = optim.Adam(model.parameters(), lr=0.001)\n",
        "loss_fn = nn.CrossEntropyLoss()\n",
        "\n",
        "def train(epoch):\n",
        "  model.train()\n",
        "  for batch_idx, (data, target) in enumerate(loaders['train']):\n",
        "    data, target = data.to(device), target.to(device)\n",
        "    optimizer.zero_grad()\n",
        "    output = model(data)\n",
        "    loss = loss_fn(output, target)\n",
        "    loss.backward()\n",
        "    optimizer.step()\n",
        "    if batch_idx % 50 == 0:\n",
        "      print(f'Train Epoch: {epoch} [{batch_idx * len(data)}/{len(loaders[\"train\"].dataset)} ({100. * batch_idx / len(loaders[\"train\"]):.0f}%)]\\t{loss.item():.6f}')\n",
        "\n",
        "def test():\n",
        "  model.eval()\n",
        "\n",
        "  test_loss = 0\n",
        "  correct = 0\n",
        "\n",
        "  with torch.no_grad():\n",
        "    for data, target in loaders['test']:\n",
        "      data, target = data.to(device), target.to(device)\n",
        "      output = model(data)\n",
        "      test_loss += loss_fn(output, target).item()\n",
        "      pred = output.argmax(1, keepdim=True)\n",
        "      correct += pred.eq(target.data.view_as(pred)).sum().item()\n",
        "\n",
        "\n",
        "  test_loss /= len(loaders['test'].dataset)\n",
        "  print(f'/nTest set: Average loss: {test_loss:.4f}, Accuracy {correct}/{len(loaders[\"test\"].dataset)} ({100. * correct / len(loaders[\"test\"].dataset):.0f})%\\n')"
      ],
      "metadata": {
        "id": "JE7RjEhWPphi"
      },
      "execution_count": null,
      "outputs": []
    },
    {
      "cell_type": "code",
      "source": [
        "# start the training\n",
        "for epoch in range(1, 11):\n",
        "  train(epoch)\n",
        "  test()"
      ],
      "metadata": {
        "colab": {
          "base_uri": "https://localhost:8080/"
        },
        "id": "tr7jRCxb9Zqm",
        "outputId": "57cfc994-026f-43b0-b432-0a3dd3c90407"
      },
      "execution_count": null,
      "outputs": [
        {
          "output_type": "stream",
          "name": "stderr",
          "text": [
            "<ipython-input-10-f6ca335473cf>:24: UserWarning: Implicit dimension choice for log_softmax has been deprecated. Change the call to include dim=X as an argument.\n",
            "  return F.log_softmax(x)\n"
          ]
        },
        {
          "output_type": "stream",
          "name": "stdout",
          "text": [
            "Train Epoch: 1 [0/60000 (0%)]\t2.306827\n",
            "Train Epoch: 1 [5000/60000 (8%)]\t1.519249\n",
            "Train Epoch: 1 [10000/60000 (17%)]\t0.788458\n",
            "Train Epoch: 1 [15000/60000 (25%)]\t0.684309\n",
            "Train Epoch: 1 [20000/60000 (33%)]\t0.645473\n",
            "Train Epoch: 1 [25000/60000 (42%)]\t0.504652\n",
            "Train Epoch: 1 [30000/60000 (50%)]\t0.445272\n",
            "Train Epoch: 1 [35000/60000 (58%)]\t0.425306\n",
            "Train Epoch: 1 [40000/60000 (67%)]\t0.501776\n",
            "Train Epoch: 1 [45000/60000 (75%)]\t0.359568\n",
            "Train Epoch: 1 [50000/60000 (83%)]\t0.272633\n",
            "Train Epoch: 1 [55000/60000 (92%)]\t0.271227\n",
            "/nTest set: Average loss: 0.0015, Accuracy 9565/10000 (96)%\n",
            "\n",
            "Train Epoch: 2 [0/60000 (0%)]\t0.291230\n",
            "Train Epoch: 2 [5000/60000 (8%)]\t0.286463\n",
            "Train Epoch: 2 [10000/60000 (17%)]\t0.363415\n",
            "Train Epoch: 2 [15000/60000 (25%)]\t0.261218\n",
            "Train Epoch: 2 [20000/60000 (33%)]\t0.287150\n",
            "Train Epoch: 2 [25000/60000 (42%)]\t0.272452\n",
            "Train Epoch: 2 [30000/60000 (50%)]\t0.284900\n",
            "Train Epoch: 2 [35000/60000 (58%)]\t0.326293\n",
            "Train Epoch: 2 [40000/60000 (67%)]\t0.359146\n",
            "Train Epoch: 2 [45000/60000 (75%)]\t0.266477\n",
            "Train Epoch: 2 [50000/60000 (83%)]\t0.270501\n",
            "Train Epoch: 2 [55000/60000 (92%)]\t0.331510\n",
            "/nTest set: Average loss: 0.0010, Accuracy 9704/10000 (97)%\n",
            "\n",
            "Train Epoch: 3 [0/60000 (0%)]\t0.188141\n",
            "Train Epoch: 3 [5000/60000 (8%)]\t0.343505\n",
            "Train Epoch: 3 [10000/60000 (17%)]\t0.347414\n",
            "Train Epoch: 3 [15000/60000 (25%)]\t0.182349\n",
            "Train Epoch: 3 [20000/60000 (33%)]\t0.302041\n",
            "Train Epoch: 3 [25000/60000 (42%)]\t0.168259\n",
            "Train Epoch: 3 [30000/60000 (50%)]\t0.339848\n",
            "Train Epoch: 3 [35000/60000 (58%)]\t0.327534\n",
            "Train Epoch: 3 [40000/60000 (67%)]\t0.183249\n",
            "Train Epoch: 3 [45000/60000 (75%)]\t0.211919\n",
            "Train Epoch: 3 [50000/60000 (83%)]\t0.334297\n",
            "Train Epoch: 3 [55000/60000 (92%)]\t0.220321\n",
            "/nTest set: Average loss: 0.0008, Accuracy 9758/10000 (98)%\n",
            "\n",
            "Train Epoch: 4 [0/60000 (0%)]\t0.192249\n",
            "Train Epoch: 4 [5000/60000 (8%)]\t0.330714\n",
            "Train Epoch: 4 [10000/60000 (17%)]\t0.233503\n",
            "Train Epoch: 4 [15000/60000 (25%)]\t0.242361\n",
            "Train Epoch: 4 [20000/60000 (33%)]\t0.239145\n",
            "Train Epoch: 4 [25000/60000 (42%)]\t0.182699\n",
            "Train Epoch: 4 [30000/60000 (50%)]\t0.107984\n",
            "Train Epoch: 4 [35000/60000 (58%)]\t0.459339\n",
            "Train Epoch: 4 [40000/60000 (67%)]\t0.283398\n",
            "Train Epoch: 4 [45000/60000 (75%)]\t0.269237\n",
            "Train Epoch: 4 [50000/60000 (83%)]\t0.155178\n",
            "Train Epoch: 4 [55000/60000 (92%)]\t0.118959\n",
            "/nTest set: Average loss: 0.0007, Accuracy 9760/10000 (98)%\n",
            "\n",
            "Train Epoch: 5 [0/60000 (0%)]\t0.219203\n",
            "Train Epoch: 5 [5000/60000 (8%)]\t0.263961\n",
            "Train Epoch: 5 [10000/60000 (17%)]\t0.360621\n",
            "Train Epoch: 5 [15000/60000 (25%)]\t0.240043\n",
            "Train Epoch: 5 [20000/60000 (33%)]\t0.105467\n",
            "Train Epoch: 5 [25000/60000 (42%)]\t0.152674\n",
            "Train Epoch: 5 [30000/60000 (50%)]\t0.330275\n",
            "Train Epoch: 5 [35000/60000 (58%)]\t0.200316\n",
            "Train Epoch: 5 [40000/60000 (67%)]\t0.196963\n",
            "Train Epoch: 5 [45000/60000 (75%)]\t0.301239\n",
            "Train Epoch: 5 [50000/60000 (83%)]\t0.265167\n",
            "Train Epoch: 5 [55000/60000 (92%)]\t0.218965\n",
            "/nTest set: Average loss: 0.0007, Accuracy 9782/10000 (98)%\n",
            "\n",
            "Train Epoch: 6 [0/60000 (0%)]\t0.172831\n",
            "Train Epoch: 6 [5000/60000 (8%)]\t0.211099\n",
            "Train Epoch: 6 [10000/60000 (17%)]\t0.133995\n",
            "Train Epoch: 6 [15000/60000 (25%)]\t0.145794\n",
            "Train Epoch: 6 [20000/60000 (33%)]\t0.076795\n",
            "Train Epoch: 6 [25000/60000 (42%)]\t0.208973\n",
            "Train Epoch: 6 [30000/60000 (50%)]\t0.137987\n",
            "Train Epoch: 6 [35000/60000 (58%)]\t0.154339\n",
            "Train Epoch: 6 [40000/60000 (67%)]\t0.122803\n",
            "Train Epoch: 6 [45000/60000 (75%)]\t0.111126\n",
            "Train Epoch: 6 [50000/60000 (83%)]\t0.066849\n",
            "Train Epoch: 6 [55000/60000 (92%)]\t0.114080\n",
            "/nTest set: Average loss: 0.0006, Accuracy 9811/10000 (98)%\n",
            "\n",
            "Train Epoch: 7 [0/60000 (0%)]\t0.130299\n",
            "Train Epoch: 7 [5000/60000 (8%)]\t0.094500\n",
            "Train Epoch: 7 [10000/60000 (17%)]\t0.141918\n",
            "Train Epoch: 7 [15000/60000 (25%)]\t0.247122\n",
            "Train Epoch: 7 [20000/60000 (33%)]\t0.126161\n",
            "Train Epoch: 7 [25000/60000 (42%)]\t0.146030\n",
            "Train Epoch: 7 [30000/60000 (50%)]\t0.149628\n",
            "Train Epoch: 7 [35000/60000 (58%)]\t0.186423\n",
            "Train Epoch: 7 [40000/60000 (67%)]\t0.214137\n",
            "Train Epoch: 7 [45000/60000 (75%)]\t0.135236\n",
            "Train Epoch: 7 [50000/60000 (83%)]\t0.295221\n",
            "Train Epoch: 7 [55000/60000 (92%)]\t0.225182\n",
            "/nTest set: Average loss: 0.0006, Accuracy 9827/10000 (98)%\n",
            "\n",
            "Train Epoch: 8 [0/60000 (0%)]\t0.136864\n",
            "Train Epoch: 8 [5000/60000 (8%)]\t0.163212\n",
            "Train Epoch: 8 [10000/60000 (17%)]\t0.212338\n",
            "Train Epoch: 8 [15000/60000 (25%)]\t0.144588\n",
            "Train Epoch: 8 [20000/60000 (33%)]\t0.144055\n",
            "Train Epoch: 8 [25000/60000 (42%)]\t0.153442\n",
            "Train Epoch: 8 [30000/60000 (50%)]\t0.131067\n",
            "Train Epoch: 8 [35000/60000 (58%)]\t0.242873\n",
            "Train Epoch: 8 [40000/60000 (67%)]\t0.196903\n",
            "Train Epoch: 8 [45000/60000 (75%)]\t0.143073\n",
            "Train Epoch: 8 [50000/60000 (83%)]\t0.282548\n",
            "Train Epoch: 8 [55000/60000 (92%)]\t0.093892\n",
            "/nTest set: Average loss: 0.0005, Accuracy 9834/10000 (98)%\n",
            "\n",
            "Train Epoch: 9 [0/60000 (0%)]\t0.078836\n",
            "Train Epoch: 9 [5000/60000 (8%)]\t0.120073\n",
            "Train Epoch: 9 [10000/60000 (17%)]\t0.214176\n",
            "Train Epoch: 9 [15000/60000 (25%)]\t0.195436\n",
            "Train Epoch: 9 [20000/60000 (33%)]\t0.133558\n",
            "Train Epoch: 9 [25000/60000 (42%)]\t0.144760\n",
            "Train Epoch: 9 [30000/60000 (50%)]\t0.247416\n",
            "Train Epoch: 9 [35000/60000 (58%)]\t0.099002\n",
            "Train Epoch: 9 [40000/60000 (67%)]\t0.068190\n",
            "Train Epoch: 9 [45000/60000 (75%)]\t0.141521\n",
            "Train Epoch: 9 [50000/60000 (83%)]\t0.084179\n",
            "Train Epoch: 9 [55000/60000 (92%)]\t0.140284\n",
            "/nTest set: Average loss: 0.0005, Accuracy 9840/10000 (98)%\n",
            "\n",
            "Train Epoch: 10 [0/60000 (0%)]\t0.088726\n",
            "Train Epoch: 10 [5000/60000 (8%)]\t0.131185\n",
            "Train Epoch: 10 [10000/60000 (17%)]\t0.320402\n",
            "Train Epoch: 10 [15000/60000 (25%)]\t0.079055\n",
            "Train Epoch: 10 [20000/60000 (33%)]\t0.130185\n",
            "Train Epoch: 10 [25000/60000 (42%)]\t0.125820\n",
            "Train Epoch: 10 [30000/60000 (50%)]\t0.208255\n",
            "Train Epoch: 10 [35000/60000 (58%)]\t0.078201\n",
            "Train Epoch: 10 [40000/60000 (67%)]\t0.141553\n",
            "Train Epoch: 10 [45000/60000 (75%)]\t0.113050\n",
            "Train Epoch: 10 [50000/60000 (83%)]\t0.059000\n",
            "Train Epoch: 10 [55000/60000 (92%)]\t0.106443\n",
            "/nTest set: Average loss: 0.0005, Accuracy 9853/10000 (99)%\n",
            "\n"
          ]
        }
      ]
    },
    {
      "cell_type": "code",
      "source": [
        "\n",
        "\n",
        "import matplotlib.pyplot as plt\n",
        "import numpy\n",
        "\n",
        "model.eval()\n",
        "data, target = test_data[1] # change this value to try different values\n",
        "data = data.unsqueeze(0).to(device)\n",
        "output = model(data)\n",
        "pred = output.argmax(1, keepdim=True)\n",
        "\n",
        "'''plt.imshow(data.cpu().squeeze(0), cmap='gray')\n",
        "print(f'Prediction: {pred.item()}')'''\n",
        "\n",
        "print(f'Prediction: {pred}')\n",
        "\n",
        "image = data.squeeze(0).squeeze(0).cpu().numpy()\n",
        "plt.imshow(image, cmap='gray')\n",
        "plt.show()\n",
        "\n"
      ],
      "metadata": {
        "colab": {
          "base_uri": "https://localhost:8080/",
          "height": 482
        },
        "id": "xqbmd_G0-trd",
        "outputId": "fa55bed8-d393-4d9f-c2db-57fcdb84904f"
      },
      "execution_count": null,
      "outputs": [
        {
          "output_type": "stream",
          "name": "stderr",
          "text": [
            "<ipython-input-10-f6ca335473cf>:24: UserWarning: Implicit dimension choice for log_softmax has been deprecated. Change the call to include dim=X as an argument.\n",
            "  return F.log_softmax(x)\n"
          ]
        },
        {
          "output_type": "stream",
          "name": "stdout",
          "text": [
            "Prediction: tensor([[2]])\n"
          ]
        },
        {
          "output_type": "display_data",
          "data": {
            "text/plain": [
              "<Figure size 640x480 with 1 Axes>"
            ],
            "image/png": "[encoded data removed]"
          },
          "metadata": {}
        }
      ]
    }
  ]
}